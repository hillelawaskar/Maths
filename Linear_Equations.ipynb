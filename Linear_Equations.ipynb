{
  "nbformat": 4,
  "nbformat_minor": 0,
  "metadata": {
    "kernelspec": {
      "display_name": "Python 3",
      "language": "python",
      "name": "python3"
    },
    "language_info": {
      "codemirror_mode": {
        "name": "ipython",
        "version": 3
      },
      "file_extension": ".py",
      "mimetype": "text/x-python",
      "name": "python",
      "nbconvert_exporter": "python",
      "pygments_lexer": "ipython3",
      "version": "3.7.4"
    },
    "colab": {
      "name": "Linear Equations.ipynb",
      "provenance": [],
      "collapsed_sections": []
    }
  },
  "cells": [
    {
      "cell_type": "markdown",
      "metadata": {
        "id": "Qsoaf4DHW4ur",
        "colab_type": "text"
      },
      "source": [
        "# Linear Equations"
      ]
    },
    {
      "cell_type": "markdown",
      "metadata": {
        "id": "8FE9qi40YKyW",
        "colab_type": "text"
      },
      "source": [
        "#####  ------------------ by Hillel Awaskar"
      ]
    },
    {
      "cell_type": "markdown",
      "metadata": {
        "id": "udtczlQ4W4uw",
        "colab_type": "text"
      },
      "source": [
        "#####*Objectives : To understand what is a Linear Equation*"
      ]
    },
    {
      "cell_type": "markdown",
      "metadata": {
        "id": "aw1N5Y4XW4vL",
        "colab_type": "text"
      },
      "source": [
        "A **Linear Equation** is called so as its Linear. i.e. its representation is a **Line**.\n",
        "\n",
        "$ y = mx^1 + c $   \n",
        "\n",
        "example : \n",
        "\n",
        "$y = 5x^1 + 3$\n",
        "\n",
        "$4x^1 - 9 = y$\n",
        "\n",
        "Equation containing only one variable with 1 as its highest power \n",
        "is called a Linear equation or a First Degree Equation\n",
        "\n"
      ]
    },
    {
      "cell_type": "markdown",
      "metadata": {
        "id": "QHhfMLS4W4vP",
        "colab_type": "text"
      },
      "source": [
        "##### Code to understand an Linear Equation  :    $y = 5x^1 + 3$"
      ]
    },
    {
      "cell_type": "code",
      "metadata": {
        "id": "Nvf4l-Z9W4vS",
        "colab_type": "code",
        "outputId": "216c7dcd-d229-4506-f244-a6627511a828",
        "colab": {
          "base_uri": "https://localhost:8080/",
          "height": 453
        }
      },
      "source": [
        "# Import Libraries\n",
        "import matplotlib.pyplot as plt\n",
        "import numpy as np\n",
        "\n",
        "x = np.array(range(10))\n",
        "y =  5 * x  + 3          ##<<<<<<Change the Equation here \n",
        "print (\"x: \" ,x  )\n",
        "for x_i in x:\n",
        "    y_i =  5 * x_i  + 3     ##<<<<<<Change the Equation here\n",
        "    print (\"x :\", x_i, \"     y : \", y_i)\n",
        "\n",
        "# Create and the plot  \n",
        "plt.plot(x,y)\n",
        "plt.show()"
      ],
      "execution_count": 0,
      "outputs": [
        {
          "output_type": "stream",
          "text": [
            "x:  [0 1 2 3 4 5 6 7 8 9]\n",
            "x : 0      y :  3\n",
            "x : 1      y :  8\n",
            "x : 2      y :  13\n",
            "x : 3      y :  18\n",
            "x : 4      y :  23\n",
            "x : 5      y :  28\n",
            "x : 6      y :  33\n",
            "x : 7      y :  38\n",
            "x : 8      y :  43\n",
            "x : 9      y :  48\n"
          ],
          "name": "stdout"
        },
        {
          "output_type": "display_data",
          "data": {
            "image/png": "[encoded data removed]",
            "text/plain": [
              "<Figure size 432x288 with 1 Axes>"
            ]
          },
          "metadata": {
            "tags": [],
            "needs_background": "light"
          }
        }
      ]
    },
    {
      "cell_type": "markdown",
      "metadata": {
        "id": "tvuMmJ4QW4vn",
        "colab_type": "text"
      },
      "source": [
        "##### Can we see if higher power equation is NOT LINEAR ?  Yes absolutely we can code and check\n"
      ]
    },
    {
      "cell_type": "markdown",
      "metadata": {
        "id": "ptEru5vxW4vp",
        "colab_type": "text"
      },
      "source": [
        "Lets Check both these equations: \n",
        "\n",
        "$y = 5x^2 + 12$\n",
        "\n",
        "$y = 5x^3 + 5$"
      ]
    },
    {
      "cell_type": "code",
      "metadata": {
        "id": "Q83uauB_W4vr",
        "colab_type": "code",
        "outputId": "878b1cc6-93a2-42c4-d8d7-59bc8553b71c",
        "colab": {
          "base_uri": "https://localhost:8080/",
          "height": 882
        }
      },
      "source": [
        "#Equation 1\n",
        "y =  (5 * x**2)  + 12          ##<<<<<<Change the Equation here\n",
        "\n",
        "print (\"x: \" ,x  )\n",
        "for x_i in x:\n",
        "    y_i =  (5 * x_i**2)  + 12     ##<<<<<<Change the Equation here\n",
        "    print (\"x :\", x_i, \"     y : \", y_i)\n",
        "\n",
        "plt.plot(x,y)\n",
        "plt.show()\n",
        "#Equation 2\n",
        "y =  (5 * x**3)  + 5          ##<<<<<<Change the Equation here \n",
        "\n",
        "print (\"x: \" ,x  )\n",
        "for x_i in x:\n",
        "    y_i =  (5 * x_i**3)  + 5      ##<<<<<<Change the Equation here\n",
        "    print (\"x :\", x_i, \"     y : \", y_i)\n",
        "plt.plot(x,y)\n",
        "plt.show()"
      ],
      "execution_count": 0,
      "outputs": [
        {
          "output_type": "stream",
          "text": [
            "x:  [0 1 2 3 4 5 6 7 8 9]\n",
            "x : 0      y :  12\n",
            "x : 1      y :  17\n",
            "x : 2      y :  32\n",
            "x : 3      y :  57\n",
            "x : 4      y :  92\n",
            "x : 5      y :  137\n",
            "x : 6      y :  192\n",
            "x : 7      y :  257\n",
            "x : 8      y :  332\n",
            "x : 9      y :  417\n"
          ],
          "name": "stdout"
        },
        {
          "output_type": "display_data",
          "data": {
            "image/png": "[encoded data removed]",
            "text/plain": [
              "<Figure size 432x288 with 1 Axes>"
            ]
          },
          "metadata": {
            "tags": [],
            "needs_background": "light"
          }
        },
        {
          "output_type": "stream",
          "text": [
            "x:  [0 1 2 3 4 5 6 7 8 9]\n",
            "x : 0      y :  5\n",
            "x : 1      y :  10\n",
            "x : 2      y :  45\n",
            "x : 3      y :  140\n",
            "x : 4      y :  325\n",
            "x : 5      y :  630\n",
            "x : 6      y :  1085\n",
            "x : 7      y :  1720\n",
            "x : 8      y :  2565\n",
            "x : 9      y :  3650\n"
          ],
          "name": "stdout"
        },
        {
          "output_type": "display_data",
          "data": {
            "image/png": "[encoded data removed]",
            "text/plain": [
              "<Figure size 432x288 with 1 Axes>"
            ]
          },
          "metadata": {
            "tags": [],
            "needs_background": "light"
          }
        }
      ]
    },
    {
      "cell_type": "markdown",
      "metadata": {
        "id": "ywqiD4YfEkWq",
        "colab_type": "text"
      },
      "source": [
        "Are there equations Linear?\n",
        "\n",
        "$y = 5x^1$\n",
        "\n",
        "$y = -2x^1$"
      ]
    },
    {
      "cell_type": "code",
      "metadata": {
        "id": "rR9y7mvfFgAe",
        "colab_type": "code",
        "outputId": "beb8a01d-b3d8-451e-9364-fa85fe49a617",
        "colab": {
          "base_uri": "https://localhost:8080/",
          "height": 866
        }
      },
      "source": [
        "#Equation 1\n",
        "y =  (5 * x)          ##<<<<<<Change the Equation here \n",
        "print (\"x: \" ,x  )\n",
        "for x_i in x:\n",
        "    y_i =  (5 * x_i)     ##<<<<<<Change the Equation here\n",
        "    print (\"x :\", x_i, \"     y : \", y_i)\n",
        "plt.plot(x,y)\n",
        "plt.show()\n",
        "#Equation 2\n",
        "y =  (-2 * x)          ##<<<<<<Change the Equation here \n",
        "for x_i in x:\n",
        "    y_i =  (-2 * x_i)    ##<<<<<<Change the Equation here\n",
        "    print (\"x :\", x_i, \"     y : \", y_i)\n",
        "plt.plot(x,y)\n",
        "plt.show()"
      ],
      "execution_count": 0,
      "outputs": [
        {
          "output_type": "stream",
          "text": [
            "x:  [0 1 2 3 4 5 6 7 8 9]\n",
            "x : 0      y :  0\n",
            "x : 1      y :  5\n",
            "x : 2      y :  10\n",
            "x : 3      y :  15\n",
            "x : 4      y :  20\n",
            "x : 5      y :  25\n",
            "x : 6      y :  30\n",
            "x : 7      y :  35\n",
            "x : 8      y :  40\n",
            "x : 9      y :  45\n"
          ],
          "name": "stdout"
        },
        {
          "output_type": "display_data",
          "data": {
            "image/png": "[encoded data removed]",
            "text/plain": [
              "<Figure size 432x288 with 1 Axes>"
            ]
          },
          "metadata": {
            "tags": [],
            "needs_background": "light"
          }
        },
        {
          "output_type": "stream",
          "text": [
            "x : 0      y :  0\n",
            "x : 1      y :  -2\n",
            "x : 2      y :  -4\n",
            "x : 3      y :  -6\n",
            "x : 4      y :  -8\n",
            "x : 5      y :  -10\n",
            "x : 6      y :  -12\n",
            "x : 7      y :  -14\n",
            "x : 8      y :  -16\n",
            "x : 9      y :  -18\n"
          ],
          "name": "stdout"
        },
        {
          "output_type": "display_data",
          "data": {
            "image/png": "[encoded data removed]",
            "text/plain": [
              "<Figure size 432x288 with 1 Axes>"
            ]
          },
          "metadata": {
            "tags": [],
            "needs_background": "light"
          }
        }
      ]
    },
    {
      "cell_type": "markdown",
      "metadata": {
        "id": "ztEj-HauH243",
        "colab_type": "text"
      },
      "source": [
        "Yes They are Linear, the constant 'c' in the case of above 2 equations was zero."
      ]
    },
    {
      "cell_type": "markdown",
      "metadata": {
        "id": "JBJPMH-qITQZ",
        "colab_type": "text"
      },
      "source": [
        "Now lets look at the following equations \n",
        "\n",
        "$ y =  mx + c$    , where $m = 0$\n",
        "\n",
        "$y = 0*x +  5$\n",
        "\n",
        "\n"
      ]
    },
    {
      "cell_type": "code",
      "metadata": {
        "id": "pzdmZvA2I_Mf",
        "colab_type": "code",
        "outputId": "15115ef4-2497-4a8b-9e9e-86e49327bd49",
        "colab": {
          "base_uri": "https://localhost:8080/",
          "height": 265
        }
      },
      "source": [
        "#Equation 1\n",
        "y =  (0 * x) + 5          ##<<<<<<Change the Equation here \n",
        "plt.plot(x,y)\n",
        "plt.show()"
      ],
      "execution_count": 0,
      "outputs": [
        {
          "output_type": "display_data",
          "data": {
            "image/png": "[encoded data removed]",
            "text/plain": [
              "<Figure size 432x288 with 1 Axes>"
            ]
          },
          "metadata": {
            "tags": [],
            "needs_background": "light"
          }
        }
      ]
    },
    {
      "cell_type": "markdown",
      "metadata": {
        "id": "QKZmCe6MJUq3",
        "colab_type": "text"
      },
      "source": [
        "The above equation is also Linear.\n"
      ]
    }
  ]
}